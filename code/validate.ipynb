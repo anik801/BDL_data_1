{
 "cells": [
  {
   "cell_type": "code",
   "execution_count": null,
   "metadata": {},
   "outputs": [],
   "source": [
    "# imports\n",
    "import glob\n",
    "import pandas as pd\n",
    "import numpy as np\n",
    "import matplotlib.pyplot as plt\n",
    "import matplotlib.ticker as plticker\n",
    "import matplotlib.ticker as ticker\n",
    "import matplotlib.dates as mdates\n",
    "from datetime import datetime\n",
    "import sys\n",
    "import seaborn as sns\n",
    "import calplot\n",
    "import csv"
   ]
  },
  {
   "cell_type": "code",
   "execution_count": null,
   "metadata": {},
   "outputs": [],
   "source": [
    "print(\"Starting data validation...\")"
   ]
  },
  {
   "cell_type": "code",
   "execution_count": null,
   "metadata": {},
   "outputs": [],
   "source": [
    "import matplotlib as mpl\n",
    "mpl.rcParams['agg.path.chunksize'] = 10000"
   ]
  },
  {
   "cell_type": "code",
   "execution_count": null,
   "metadata": {},
   "outputs": [],
   "source": [
    "print(\"Reading data files\")\n",
    "path_plus = \"data/plus/\"\n",
    "path_regular = \"data/regular/\"\n",
    "\n",
    "files_plus = [f for f in glob.glob(path_plus + \"*.csv\")]\n",
    "files_regular = [f for f in glob.glob(path_regular + \"*.csv\")]"
   ]
  },
  {
   "cell_type": "code",
   "execution_count": null,
   "metadata": {},
   "outputs": [],
   "source": [
    "# read files into dataframes\n",
    "\n",
    "df_plus = []\n",
    "for file in files_plus:\n",
    "    df_plus.append(pd.read_csv(file))\n",
    "\n",
    "df_regular = []\n",
    "for file in files_regular:\n",
    "    df_regular.append(pd.read_csv(file))"
   ]
  },
  {
   "cell_type": "code",
   "execution_count": null,
   "metadata": {},
   "outputs": [],
   "source": [
    "actual_temp_file = \"data/actual_temp.csv\"\n",
    "df_actual_temp = pd.read_csv(actual_temp_file)\n",
    "\n",
    "actual_humidity_file = \"data/actual_humidity.csv\"\n",
    "df_actual_humidity = pd.read_csv(actual_humidity_file)"
   ]
  },
  {
   "cell_type": "code",
   "execution_count": null,
   "metadata": {},
   "outputs": [],
   "source": [
    "def plot_chart(df, start_date, end_date, fig, ax, target_column='temperature', label=\"NONE\"):\n",
    "    df['date_time'] = pd.to_datetime(df['date_time'])\n",
    "    df.index = pd.to_datetime(df['date_time'])\n",
    "    \n",
    "    date_mask = (df.index >= start_date) & (df.index <= end_date)    \n",
    "    df_ranged = df.loc[date_mask]  \n",
    "    sns.lineplot(x = df_ranged.index.date, y = df_ranged[target_column], ax = ax, label = label)"
   ]
  },
  {
   "cell_type": "code",
   "execution_count": null,
   "metadata": {},
   "outputs": [],
   "source": [
    "# target_rpi_id = [30]\n",
    "target_rpi_id = [20, 21, 37, 39, 41, 45, 50]\n",
    "label_dict = {\n",
    "    \"20\" : \"Device #20: House B - Bedroom\",\n",
    "    \"21\" : \"Device #21: House B - Kitchen\",\n",
    "    \"22\" : \"Device #22: House C - Room B\",\n",
    "    \"23\" : \"Device #23: House C - Room A\",\n",
    "    \"30\" : \"Device #30: House C - Room A\",\n",
    "    \"37\" : \"Device #37: House A - Guest Room\",\n",
    "    \"39\" : \"Device #39: House A - Kitchen\",\n",
    "    \"41\" : \"Device #41: House A - Guest Room\",\n",
    "    \"45\" : \"Device #45: House A - Living Room\",\n",
    "    \"50\" : \"Device #50: House A - Master Bedroom\"\n",
    "}\n",
    "\n",
    "start_date = '2021-9-15 00:00:00'\n",
    "end_date = '2021-12-31 23:59:59'\n",
    "day_interval = 15\n",
    "\n",
    "# start_date = '2022-5-31 00:00:00'\n",
    "# end_date = '2022-6-30 23:59:59'\n",
    "# day_interval = 5\n",
    "\n",
    "text_size = 16\n",
    "\n",
    "target_columns=['temperature', 'humidity']\n",
    "# target_columns=['humidity']"
   ]
  },
  {
   "cell_type": "code",
   "execution_count": null,
   "metadata": {},
   "outputs": [],
   "source": [
    "for target_column in target_columns:\n",
    "    fig, ax = plt.subplots(figsize=(18, 12))\n",
    "    ax.set_title(target_column.capitalize(), fontsize=20)  \n",
    "\n",
    "    for df in df_plus:\n",
    "        rpi_id = df['rpi_id'][0]\n",
    "        if rpi_id in target_rpi_id:\n",
    "            label = label_dict.get(str(rpi_id))\n",
    "            plot_chart(df, start_date, end_date, fig, ax, target_column, label)\n",
    "            \n",
    "    for df in df_regular:\n",
    "        rpi_id = df['rpi_id'][0]\n",
    "        if rpi_id in target_rpi_id:\n",
    "            label = label_dict.get(str(rpi_id))\n",
    "            plot_chart(df, start_date, end_date, fig, ax, target_column, label)\n",
    "    \n",
    "    if target_column == 'temperature':\n",
    "        df_actual_temp.index = pd.to_datetime(df_actual_temp['Date'])\n",
    "        date_mask = (df_actual_temp.index >= start_date) & (df_actual_temp.index <= end_date)        \n",
    "        df_ranged = df_actual_temp.loc[date_mask]  \n",
    "        sns.lineplot(x=df_ranged.index.date, y=df_ranged['Avg'], ax = ax, label='Actual Outside Temperature', linewidth=4)\n",
    "        plt.ylabel('Degree Celsius', fontsize=text_size)\n",
    "    elif target_column == 'humidity':\n",
    "        df_actual_humidity.index = pd.to_datetime(df_actual_humidity['Date'])\n",
    "        date_mask = (df_actual_humidity.index >= start_date) & (df_actual_humidity.index <= end_date)\n",
    "        df_ranged = df_actual_humidity.loc[date_mask]  \n",
    "        sns.lineplot(x=df_ranged.index.date, y=df_ranged['Avg'], ax = ax, label='Actual Outside Humidity', linewidth=4)\n",
    "        plt.ylabel('Humidity (%)', fontsize=text_size)\n",
    "        \n",
    "    output_path = 'output/4/'\n",
    "    file_name = output_path + 'validate_'+ target_column +'.png'\n",
    "    \n",
    "    plt.legend(fontsize=text_size)\n",
    "    plt.ylabel('Relative Humidity (%)', fontsize=text_size)\n",
    "    plt.xlabel(' ', fontsize=text_size)\n",
    "    plt.xticks(fontsize=text_size)\n",
    "    plt.yticks(fontsize=text_size)\n",
    "    \n",
    "    ax.xaxis.set_major_locator(mdates.DayLocator(interval = day_interval))\n",
    "    ax.xaxis.set_major_formatter(mdates.DateFormatter('%Y-%m-%d'))\n",
    "    plt.gcf().autofmt_xdate()\n",
    "    \n",
    "    \n",
    "    fig.autofmt_xdate()\n",
    "    plt.tight_layout()\n",
    "    plt.savefig(file_name, dpi=300)\n",
    "    plt.close('all')\n"
   ]
  },
  {
   "cell_type": "code",
   "execution_count": null,
   "metadata": {},
   "outputs": [],
   "source": []
  },
  {
   "cell_type": "code",
   "execution_count": null,
   "metadata": {},
   "outputs": [],
   "source": []
  },
  {
   "cell_type": "code",
   "execution_count": null,
   "metadata": {},
   "outputs": [],
   "source": [
    "def plot_day_chart(df, start_date, end_date, fig, ax, target_column='light', label=\"NONE\"):\n",
    "    df['date_time'] = pd.to_datetime(df['date_time'])\n",
    "    df.index = pd.to_datetime(df['date_time'])\n",
    "    \n",
    "    date_mask = (df.index >= start_date) & (df.index <= end_date)    \n",
    "    df_ranged = df.loc[date_mask]\n",
    "    sns.lineplot(x = df_ranged.index.hour, y = df_ranged[target_column], ax = ax, label = label)\n"
   ]
  },
  {
   "cell_type": "code",
   "execution_count": null,
   "metadata": {},
   "outputs": [],
   "source": [
    "start_date = '2022-1-15 00:00:00'\n",
    "# end_date = '2022-1-15 23:59:59'\n",
    "end_date = '2022-1-16 1:00:00'\n",
    "\n",
    "text_size = 16\n",
    "\n",
    "target_column = 'light'\n",
    "# target_column = 'humidity'\n",
    "\n",
    "# target_rpi_id = [30]\n",
    "target_rpi_id = [20, 21, 37, 39, 41, 45, 50]\n",
    "\n",
    "    \n",
    "fig, ax = plt.subplots(figsize=(18, 12))\n",
    "ax.set_title(target_column.capitalize() + ' readings over 24 hours', fontsize=20)  \n",
    "\n",
    "for df in df_plus:\n",
    "    rpi_id = df['rpi_id'][0]\n",
    "    if rpi_id in target_rpi_id:\n",
    "        label = label_dict.get(str(rpi_id))\n",
    "        plot_day_chart(df, start_date, end_date, fig, ax, target_column, label)\n",
    "\n",
    "for df in df_regular:\n",
    "    rpi_id = df['rpi_id'][0]\n",
    "    if rpi_id in target_rpi_id:\n",
    "        label = label_dict.get(str(rpi_id))\n",
    "        plot_day_chart(df, start_date, end_date, fig, ax, target_column, label)\n",
    "\n",
    "\n",
    "\n",
    "output_path = 'output/4/'\n",
    "file_name = output_path + 'validate_'+ target_column +'.png'\n",
    "\n",
    "plt.legend(fontsize=text_size)\n",
    "plt.xlabel('Hours', fontsize=text_size)\n",
    "plt.ylabel('lux', fontsize=text_size)\n",
    "plt.xticks(fontsize=text_size)\n",
    "plt.yticks(fontsize=text_size)\n",
    "\n",
    "\n",
    "fig.autofmt_xdate()\n",
    "plt.tight_layout()\n",
    "plt.savefig(file_name, dpi=300)\n",
    "plt.close('all')"
   ]
  },
  {
   "cell_type": "code",
   "execution_count": null,
   "metadata": {},
   "outputs": [],
   "source": []
  },
  {
   "cell_type": "code",
   "execution_count": null,
   "metadata": {},
   "outputs": [],
   "source": []
  },
  {
   "cell_type": "code",
   "execution_count": null,
   "metadata": {},
   "outputs": [],
   "source": []
  }
 ],
 "metadata": {
  "kernelspec": {
   "display_name": "Python 3",
   "language": "python",
   "name": "python3"
  },
  "language_info": {
   "codemirror_mode": {
    "name": "ipython",
    "version": 3
   },
   "file_extension": ".py",
   "mimetype": "text/x-python",
   "name": "python",
   "nbconvert_exporter": "python",
   "pygments_lexer": "ipython3",
   "version": "3.7.1"
  }
 },
 "nbformat": 4,
 "nbformat_minor": 2
}
