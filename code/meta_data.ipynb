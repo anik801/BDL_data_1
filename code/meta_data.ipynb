{
 "cells": [
  {
   "cell_type": "code",
   "execution_count": null,
   "metadata": {},
   "outputs": [],
   "source": [
    "# imports\n",
    "import glob\n",
    "import pandas as pd\n",
    "from datetime import datetime\n",
    "import sys\n",
    "import csv"
   ]
  },
  {
   "cell_type": "code",
   "execution_count": null,
   "metadata": {},
   "outputs": [],
   "source": [
    "print(\"Starting data analysis...\")"
   ]
  },
  {
   "cell_type": "code",
   "execution_count": null,
   "metadata": {},
   "outputs": [],
   "source": [
    "print(\"Reading data files\")\n",
    "path_plus = \"data/plus/\"\n",
    "path_regular = \"data/regular/\"\n",
    "\n",
    "files_plus = [f for f in glob.glob(path_plus + \"*.csv\")]\n",
    "files_regular = [f for f in glob.glob(path_regular + \"*.csv\")]"
   ]
  },
  {
   "cell_type": "code",
   "execution_count": null,
   "metadata": {},
   "outputs": [],
   "source": [
    "df_plus = []\n",
    "for file in files_plus:\n",
    "    df_plus.append(pd.read_csv(file))\n",
    "    \n",
    "df_regular = []\n",
    "for file in files_regular:\n",
    "    df_regular.append(pd.read_csv(file))"
   ]
  },
  {
   "cell_type": "code",
   "execution_count": null,
   "metadata": {},
   "outputs": [],
   "source": [
    "def show_data_info(df, output_file_name, file_write = False):\n",
    "    if file_write:\n",
    "        # change output settings to file\n",
    "        output_file_name = 'output/' + output_file_name \n",
    "        actual_stdout = sys.stdout\n",
    "        output_file = open(output_file_name,'a')\n",
    "        sys.stdout = output_file\n",
    "    \n",
    "    rpi_id = df['rpi_id'][0]\n",
    "    print(\"Data Preview for : \" + str(rpi_id))\n",
    "    print(df.head())\n",
    "    print('\\n\\n')\n",
    "    \n",
    "    print(\"Column in DF\")\n",
    "    col_names = list(df.columns)\n",
    "    print(col_names)\n",
    "    print('\\n\\n')\n",
    "    \n",
    "    print(\"Data info\")\n",
    "    print(df.info())\n",
    "    print('\\n\\n')\n",
    "    \n",
    "    print(\"Data description\")\n",
    "    print(df.describe())\n",
    "    print('\\n\\n')\n",
    "    \n",
    "    print(\"Date Range\")\n",
    "    print(min(df['date_time']), max(df['date_time']))\n",
    "    print('\\n\\n')\n",
    "    \n",
    "    # convert date_time column form object to date-time in python\n",
    "    df['date_time'] = pd.to_datetime(df['date_time'])\n",
    "    \n",
    "    if file_write:\n",
    "        # revert output settings\n",
    "        sys.stdout = actual_stdout\n",
    "        output_file.close()\n",
    "        print(\"Output generated in data_preview.txt\")"
   ]
  },
  {
   "cell_type": "code",
   "execution_count": null,
   "metadata": {},
   "outputs": [],
   "source": [
    "for df in df_plus:\n",
    "    show_data_info(df, 'info_plus.txt', False)   "
   ]
  },
  {
   "cell_type": "code",
   "execution_count": null,
   "metadata": {},
   "outputs": [],
   "source": [
    "for df in df_regular:\n",
    "    show_data_info(df, 'info_regular.txt', False)   "
   ]
  },
  {
   "cell_type": "code",
   "execution_count": null,
   "metadata": {},
   "outputs": [],
   "source": []
  },
  {
   "cell_type": "code",
   "execution_count": null,
   "metadata": {},
   "outputs": [],
   "source": []
  }
 ],
 "metadata": {
  "kernelspec": {
   "display_name": "Python 3",
   "language": "python",
   "name": "python3"
  },
  "language_info": {
   "codemirror_mode": {
    "name": "ipython",
    "version": 3
   },
   "file_extension": ".py",
   "mimetype": "text/x-python",
   "name": "python",
   "nbconvert_exporter": "python",
   "pygments_lexer": "ipython3",
   "version": "3.7.1"
  }
 },
 "nbformat": 4,
 "nbformat_minor": 2
}
